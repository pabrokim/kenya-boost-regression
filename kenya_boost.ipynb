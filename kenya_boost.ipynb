{
 "cells": [
  {
   "cell_type": "code",
   "execution_count": 71,
   "metadata": {},
   "outputs": [],
   "source": [
    "import pandas as pd\n",
    "import warnings\n"
   ]
  },
  {
   "cell_type": "code",
   "execution_count": 119,
   "metadata": {},
   "outputs": [],
   "source": [
    "def wrangle(file):\n",
    "\n",
    "    #read csv\n",
    "    df = pd.read_csv(file)\n",
    "\n",
    "    # columns to drop due to high missing values\n",
    "    cols_to_drop = ['Year', 'Class', 'Adm1', 'Adm6', 'Geo1', 'econ4', 'Adm3', 'Adm4', 'Adm5', 'Econ0', 'econ1', 'econ2', 'econ3', 'FndSrce1', 'function1', 'function2']\n",
    "      \n",
    "    #drop columns\n",
    "    df.drop(columns = cols_to_drop, inplace=True)\n",
    "\n",
    "    #remove empty spaces\n",
    "    df.columns = df.columns.str.strip()\n",
    "\n",
    "    #Remove characters from target numerical columns\n",
    "    num_cols = ['Estimates', 'Revised', 'Executed']\n",
    "    for col in num_cols:\n",
    "        df[col] = df[col].astype(str)\n",
    "        df[col] = df[col].str.replace(r'[^\\d.-]', '', regex=True) \n",
    "        df[col] = df[col].replace(r'^\\s*$', 'NaN', regex=True)\n",
    "        df[col] = pd.to_numeric(df[col], errors='coerce') \n",
    "    \n",
    "    #handle missing data\n",
    "    df.dropna(subset=['Estimates'], inplace=True) # Drop rows where \"Estimates\" is missing\n",
    "\n",
    "    # Fill missing \"Revised\" and \"Executed\" values with 0\n",
    "    df[['Revised', 'Executed']] = df[['Revised', 'Executed']].fillna(0) \n",
    "\n",
    "    #change column names\n",
    "    df.columns = ['Ministry', 'Estimates', 'Revised', 'Executed']\n",
    "    \n",
    "    #remove ministry code \n",
    "    df['Ministry'] = df['Ministry'].str.replace(r'^\\d+\\s*', '', regex=True)\n",
    "    \n",
    "\n",
    "    #return dataframe\n",
    "    return df"
   ]
  },
  {
   "cell_type": "code",
   "execution_count": 120,
   "metadata": {},
   "outputs": [
    {
     "name": "stderr",
     "output_type": "stream",
     "text": [
      "/tmp/ipykernel_2753/2622435060.py:4: DtypeWarning: Columns (0,1,2,3,4,5,6,7,9,10,11,12,15,16,17,18,19) have mixed types. Specify dtype option on import or set low_memory=False.\n",
      "  df = pd.read_csv(file)\n"
     ]
    },
    {
     "data": {
      "text/html": [
       "<div>\n",
       "<style scoped>\n",
       "    .dataframe tbody tr th:only-of-type {\n",
       "        vertical-align: middle;\n",
       "    }\n",
       "\n",
       "    .dataframe tbody tr th {\n",
       "        vertical-align: top;\n",
       "    }\n",
       "\n",
       "    .dataframe thead th {\n",
       "        text-align: right;\n",
       "    }\n",
       "</style>\n",
       "<table border=\"1\" class=\"dataframe\">\n",
       "  <thead>\n",
       "    <tr style=\"text-align: right;\">\n",
       "      <th></th>\n",
       "      <th>Ministry</th>\n",
       "      <th>Estimates</th>\n",
       "      <th>Revised</th>\n",
       "      <th>Executed</th>\n",
       "    </tr>\n",
       "  </thead>\n",
       "  <tbody>\n",
       "    <tr>\n",
       "      <th>0</th>\n",
       "      <td>Ministry of Agriculture</td>\n",
       "      <td>18318600.0</td>\n",
       "      <td>14062700.0</td>\n",
       "      <td>5893860.0</td>\n",
       "    </tr>\n",
       "    <tr>\n",
       "      <th>1</th>\n",
       "      <td>Ministry of Agriculture</td>\n",
       "      <td>12799450.0</td>\n",
       "      <td>9599587.0</td>\n",
       "      <td>3312808.0</td>\n",
       "    </tr>\n",
       "    <tr>\n",
       "      <th>2</th>\n",
       "      <td>Ministry of Agriculture</td>\n",
       "      <td>7218400.0</td>\n",
       "      <td>5652150.0</td>\n",
       "      <td>2911400.0</td>\n",
       "    </tr>\n",
       "    <tr>\n",
       "      <th>3</th>\n",
       "      <td>Ministry of Agriculture</td>\n",
       "      <td>10025827.0</td>\n",
       "      <td>8126744.0</td>\n",
       "      <td>4501504.0</td>\n",
       "    </tr>\n",
       "    <tr>\n",
       "      <th>4</th>\n",
       "      <td>Ministry of Agriculture</td>\n",
       "      <td>500000.0</td>\n",
       "      <td>1130625.0</td>\n",
       "      <td>95000.0</td>\n",
       "    </tr>\n",
       "  </tbody>\n",
       "</table>\n",
       "</div>"
      ],
      "text/plain": [
       "                  Ministry   Estimates     Revised   Executed\n",
       "0  Ministry of Agriculture  18318600.0  14062700.0  5893860.0\n",
       "1  Ministry of Agriculture  12799450.0   9599587.0  3312808.0\n",
       "2  Ministry of Agriculture   7218400.0   5652150.0  2911400.0\n",
       "3  Ministry of Agriculture  10025827.0   8126744.0  4501504.0\n",
       "4  Ministry of Agriculture    500000.0   1130625.0    95000.0"
      ]
     },
     "execution_count": 120,
     "metadata": {},
     "output_type": "execute_result"
    }
   ],
   "source": [
    "df = wrangle('kenya-boost-2006-2018.csv')\n",
    "df.head()\n"
   ]
  },
  {
   "cell_type": "code",
   "execution_count": 121,
   "metadata": {},
   "outputs": [
    {
     "name": "stdout",
     "output_type": "stream",
     "text": [
      "<class 'pandas.core.frame.DataFrame'>\n",
      "Index: 254963 entries, 0 to 263740\n",
      "Data columns (total 4 columns):\n",
      " #   Column     Non-Null Count   Dtype  \n",
      "---  ------     --------------   -----  \n",
      " 0   Ministry   254963 non-null  object \n",
      " 1   Estimates  254963 non-null  float64\n",
      " 2   Revised    254963 non-null  float64\n",
      " 3   Executed   254963 non-null  float64\n",
      "dtypes: float64(3), object(1)\n",
      "memory usage: 9.7+ MB\n"
     ]
    }
   ],
   "source": [
    "df.info()\n"
   ]
  }
 ],
 "metadata": {
  "kernelspec": {
   "display_name": "Python 3",
   "language": "python",
   "name": "python3"
  },
  "language_info": {
   "codemirror_mode": {
    "name": "ipython",
    "version": 3
   },
   "file_extension": ".py",
   "mimetype": "text/x-python",
   "name": "python",
   "nbconvert_exporter": "python",
   "pygments_lexer": "ipython3",
   "version": "3.10.12"
  }
 },
 "nbformat": 4,
 "nbformat_minor": 2
}
